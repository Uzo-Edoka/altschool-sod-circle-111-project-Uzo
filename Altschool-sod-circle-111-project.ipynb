{
 "cells": [
  {
   "cell_type": "code",
   "execution_count": 2,
   "id": "c31ef604",
   "metadata": {},
   "outputs": [],
   "source": [
    "#We will be working with matplotlib"
   ]
  },
  {
   "cell_type": "code",
   "execution_count": 3,
   "id": "1ee27c9e",
   "metadata": {},
   "outputs": [],
   "source": [
    "import numpy as np"
   ]
  },
  {
   "cell_type": "code",
   "execution_count": 4,
   "id": "b02574f3",
   "metadata": {},
   "outputs": [],
   "source": [
    "import pandas as pd"
   ]
  },
  {
   "cell_type": "code",
   "execution_count": 5,
   "id": "c45426f3",
   "metadata": {},
   "outputs": [],
   "source": [
    "import matplotlib.pyplot as plt"
   ]
  },
  {
   "cell_type": "code",
   "execution_count": 6,
   "id": "47aac92a",
   "metadata": {},
   "outputs": [],
   "source": [
    "import matplotlib as mpl"
   ]
  },
  {
   "cell_type": "code",
   "execution_count": 7,
   "id": "8e1aef2f",
   "metadata": {},
   "outputs": [],
   "source": [
    "file = 'fifa.csv'"
   ]
  },
  {
   "cell_type": "code",
   "execution_count": 90,
   "id": "4a92a379",
   "metadata": {},
   "outputs": [
    {
     "name": "stderr",
     "output_type": "stream",
     "text": [
      "C:\\Users\\edoka\\AppData\\Local\\Temp\\ipykernel_2484\\3506144424.py:1: DtypeWarning: Columns (14,26) have mixed types. Specify dtype option on import or set low_memory=False.\n",
      "  df = pd.read_csv(file)\n"
   
     ]
    }
   ],
   "source": [
    "df = pd.read_csv(file)\n",
    "\n",
    "# I removed Name as index because it was interfering with the plot, it will be fixed in v1.1"
    
  },
  {
   "cell_type": "code",
   "execution_count": 91,
   "id": "1844418c",
   "metadata": {},
   "outputs": [
    {
     "data": {
      "text/html": [
       "<div>\n",
       "<style scoped>\n",
       "    .dataframe tbody tr th:only-of-type {\n",
       "        vertical-align: middle;\n",
       "    }\n",
       "\n",
       "    .dataframe tbody tr th {\n",
       "        vertical-align: top;\n",
       "    }\n",
       "\n",
       "    .dataframe thead th {\n",
       "        text-align: right;\n",
       "    }\n",
       "</style>\n",
       "<table border=\"1\" class=\"dataframe\">\n",
       "  <thead>\n",
       "    <tr style=\"text-align: right;\">\n",
       "      <th></th>\n",
       "      <th>Name</th>\n",
       "      <th>Age</th>\n",
       "      <th>Nationality</th>\n",
       "      <th>Overall</th>\n",
       "      <th>Acceleration</th>\n",
       "      <th>Aggression</th>\n",
       "      <th>Agility</th>\n",
       "      <th>Balance</th>\n",
       "      <th>Ball control</th>\n",
       "      <th>Composure</th>\n",
       "      <th>...</th>\n",
       "      <th>Short passing</th>\n",
       "      <th>Shot power</th>\n",
       "      <th>Sliding tackle</th>\n",
       "      <th>Sprint speed</th>\n",
       "      <th>Stamina</th>\n",
       "      <th>Standing tackle</th>\n",
       "      <th>Strength</th>\n",
       "      <th>Vision</th>\n",
       "      <th>Volleys</th>\n",
       "      <th>Preferred Positions</th>\n",
       "    </tr>\n",
       "  </thead>\n",
       "  <tbody>\n",
       "    <tr>\n",
       "      <th>0</th>\n",
       "      <td>Cristiano Ronaldo</td>\n",
       "      <td>32</td>\n",
       "      <td>Portugal</td>\n",
       "      <td>94</td>\n",
       "      <td>89</td>\n",
       "      <td>63</td>\n",
       "      <td>89</td>\n",
       "      <td>63</td>\n",
       "      <td>93</td>\n",
       "      <td>95</td>\n",
       "      <td>...</td>\n",
       "      <td>83</td>\n",
       "      <td>94</td>\n",
       "      <td>23</td>\n",
       "      <td>91</td>\n",
       "      <td>92</td>\n",
       "      <td>31</td>\n",
       "      <td>80</td>\n",
       "      <td>85</td>\n",
       "      <td>88</td>\n",
       "      <td>ST LW</td>\n",
       "    </tr>\n",
       "    <tr>\n",
       "      <th>1</th>\n",
       "      <td>L. Messi</td>\n",
       "      <td>30</td>\n",
       "      <td>Argentina</td>\n",
       "      <td>93</td>\n",
       "      <td>92</td>\n",
       "      <td>48</td>\n",
       "      <td>90</td>\n",
       "      <td>95</td>\n",
       "      <td>95</td>\n",
       "      <td>96</td>\n",
       "      <td>...</td>\n",
       "      <td>88</td>\n",
       "      <td>85</td>\n",
       "      <td>26</td>\n",
       "      <td>87</td>\n",
       "      <td>73</td>\n",
       "      <td>28</td>\n",
       "      <td>59</td>\n",
       "      <td>90</td>\n",
       "      <td>85</td>\n",
       "      <td>RW</td>\n",
       "    </tr>\n",
       "    <tr>\n",
       "      <th>2</th>\n",
       "      <td>Neymar</td>\n",
       "      <td>25</td>\n",
       "      <td>Brazil</td>\n",
       "      <td>92</td>\n",
       "      <td>94</td>\n",
       "      <td>56</td>\n",
       "      <td>96</td>\n",
       "      <td>82</td>\n",
       "      <td>95</td>\n",
       "      <td>92</td>\n",
       "      <td>...</td>\n",
       "      <td>81</td>\n",
       "      <td>80</td>\n",
       "      <td>33</td>\n",
       "      <td>90</td>\n",
       "      <td>78</td>\n",
       "      <td>24</td>\n",
       "      <td>53</td>\n",
       "      <td>80</td>\n",
       "      <td>83</td>\n",
       "      <td>LW</td>\n",
       "    </tr>\n",
       "    <tr>\n",
       "      <th>3</th>\n",
       "      <td>L. Suárez</td>\n",
       "      <td>30</td>\n",
       "      <td>Uruguay</td>\n",
       "      <td>92</td>\n",
       "      <td>88</td>\n",
       "      <td>78</td>\n",
       "      <td>86</td>\n",
       "      <td>60</td>\n",
       "      <td>91</td>\n",
       "      <td>83</td>\n",
       "      <td>...</td>\n",
       "      <td>83</td>\n",
       "      <td>87</td>\n",
       "      <td>38</td>\n",
       "      <td>77</td>\n",
       "      <td>89</td>\n",
       "      <td>45</td>\n",
       "      <td>80</td>\n",
       "      <td>84</td>\n",
       "      <td>88</td>\n",
       "      <td>ST</td>\n",
       "    </tr>\n",
       "    <tr>\n",
       "      <th>4</th>\n",
       "      <td>M. Neuer</td>\n",
       "      <td>31</td>\n",
       "      <td>Germany</td>\n",
       "      <td>92</td>\n",
       "      <td>58</td>\n",
       "      <td>29</td>\n",
       "      <td>52</td>\n",
       "      <td>35</td>\n",
       "      <td>48</td>\n",
       "      <td>70</td>\n",
       "      <td>...</td>\n",
       "      <td>55</td>\n",
       "      <td>25</td>\n",
       "      <td>11</td>\n",
       "      <td>61</td>\n",
       "      <td>44</td>\n",
       "      <td>10</td>\n",
       "      <td>83</td>\n",
       "      <td>70</td>\n",
       "      <td>11</td>\n",
       "      <td>GK</td>\n",
       "    </tr>\n",
       "  </tbody>\n",
       "</table>\n",
       "<p>5 rows × 39 columns</p>\n",
       "</div>"
      ],
      "text/plain": [
       "                Name  Age Nationality  Overall Acceleration Aggression  \\\n",
       "0  Cristiano Ronaldo   32    Portugal       94       89         63       \n",
       "1           L. Messi   30   Argentina       93       92         48       \n",
       "2             Neymar   25      Brazil       92       94         56       \n",
       "3          L. Suárez   30     Uruguay       92       88         78       \n",
       "4           M. Neuer   31     Germany       92       58         29       \n",
       "\n",
       "  Agility Balance Ball control Composure  ... Short passing Shot power  \\\n",
       "0  89      63           93        95      ...        83         94       \n",
       "1  90      95           95        96      ...        88         85       \n",
       "2  96      82           95        92      ...        81         80       \n",
       "3  86      60           91        83      ...        83         87       \n",
       "4  52      35           48        70      ...        55         25       \n",
       "\n",
       "  Sliding tackle Sprint speed Stamina Standing tackle Strength  Vision  \\\n",
       "0         23           91      92              31       80      85       \n",
       "1         26           87      73              28       59      90       \n",
       "2         33           90      78              24       53      80       \n",
       "3         38           77      89              45       80      84       \n",
       "4         11           61      44              10       83      70       \n",
       "\n",
       "  Volleys Preferred Positions  \n",
       "0  88                  ST LW   \n",
       "1  85                     RW   \n",
       "2  83                     LW   \n",
       "3  88                     ST   \n",
       "4  11                     GK   \n",
       "\n",
       "[5 rows x 39 columns]"
      ]
     },

     "execution_count": 91,
     "metadata": {},
     "output_type": "execute_result"
    }
   ],
   "source": [
    "df.head()"
   ]
  },
  {
   "cell_type": "code",
   "execution_count": 92,
   "id": "e6b81689",
   "metadata": {},
   "outputs": [],
   "source": [
    "top10_df= df[['Acceleration', 'Agility', 'Balance', 'Overall', 'Age']].iloc[0:10]"
   ]
  },
  {
   "cell_type": "code",
   "execution_count": 93,
   "id": "8dcaf93a",
   "metadata": {},
   "outputs": [
    {
     "data": {
      "text/html": [
       "<div>\n",
       "<style scoped>\n",
       "    .dataframe tbody tr th:only-of-type {\n",
       "        vertical-align: middle;\n",
       "    }\n",
       "\n",
       "    .dataframe tbody tr th {\n",
       "        vertical-align: top;\n",
       "    }\n",
       "\n",
       "    .dataframe thead th {\n",
       "        text-align: right;\n",
       "    }\n",
       "</style>\n",
       "<table border=\"1\" class=\"dataframe\">\n",
       "  <thead>\n",
       "    <tr style=\"text-align: right;\">\n",
       "      <th></th>\n",
       "      <th>Name</th>\n",
       "      <th>Acceleration</th>\n",
       "      <th>Agility</th>\n",
       "      <th>Balance</th>\n",
       "      <th>Overall</th>\n",
       "      <th>Age</th>\n",
       "    </tr>\n",
       "  </thead>\n",
       "  <tbody>\n",
       "    <tr>\n",
       "      <th>0</th>\n",
       "      <td>Cristiano Ronaldo</td>\n",
       "      <td>89</td>\n",
       "      <td>89</td>\n",
       "      <td>63</td>\n",
       "      <td>94</td>\n",
       "      <td>32</td>\n",
       "    </tr>\n",
       "    <tr>\n",
       "      <th>1</th>\n",
       "      <td>L. Messi</td>\n",
       "      <td>92</td>\n",
       "      <td>90</td>\n",
       "      <td>95</td>\n",
       "      <td>93</td>\n",
       "      <td>30</td>\n",
       "    </tr>\n",
       "    <tr>\n",
       "      <th>2</th>\n",
       "      <td>Neymar</td>\n",
       "      <td>94</td>\n",
       "      <td>96</td>\n",
       "      <td>82</td>\n",
       "      <td>92</td>\n",
       "      <td>25</td>\n",
       "    </tr>\n",
       "    <tr>\n",
       "      <th>3</th>\n",
       "      <td>L. Suárez</td>\n",
       "      <td>88</td>\n",
       "      <td>86</td>\n",
       "      <td>60</td>\n",
       "      <td>92</td>\n",
       "      <td>30</td>\n",
       "    </tr>\n",
       "    <tr>\n",
       "      <th>4</th>\n",
       "      <td>M. Neuer</td>\n",
       "      <td>58</td>\n",
       "      <td>52</td>\n",
       "      <td>35</td>\n",
       "      <td>92</td>\n",
       "      <td>31</td>\n",
       "    </tr>\n",
       "    <tr>\n",
       "      <th>R. Lewandowski</th>\n",
       "      <td>79</td>\n",
       "      <td>78</td>\n",
       "      <td>80</td>\n",
       "      <td>91</td>\n",
       "      <td>28</td>\n",
       "    </tr>\n",
       "    <tr>\n",
       "      <th>De Gea</th>\n",
       "      <td>57</td>\n",
       "      <td>60</td>\n",
       "      <td>43</td>\n",
       "      <td>90</td>\n",
       "      <td>26</td>\n",
       "    </tr>\n",
       "    <tr>\n",
       "      <th>E. Hazard</th>\n",
       "      <td>93</td>\n",
       "      <td>93</td>\n",
       "      <td>91</td>\n",
       "      <td>90</td>\n",
       "      <td>26</td>\n",
       "    </tr>\n",
       "    <tr>\n",
       "      <th>T. Kroos</th>\n",
       "      <td>60</td>\n",
       "      <td>71</td>\n",
       "      <td>69</td>\n",
       "      <td>90</td>\n",
       "      <td>27</td>\n",
       "    </tr>\n",
       "    <tr>\n",
       "      <th>G. Higuaín</th>\n",
       "      <td>78</td>\n",
       "      <td>75</td>\n",
       "      <td>69</td>\n",
       "      <td>90</td>\n",
       "      <td>29</td>\n",
       "    </tr>\n",
       "  </tbody>\n",
       "</table>\n",
       "</div>"
      ],
      "text/plain": [
       "                  Acceleration Agility Balance  Overall  Age\n",
       "Name                                                        \n",
       "Cristiano Ronaldo       89      89      63           94   32\n",
       "L. Messi                92      90      95           93   30\n",
       "Neymar                  94      96      82           92   25\n",
       "L. Suárez               88      86      60           92   30\n",
       "M. Neuer                58      52      35           92   31\n",
       "R. Lewandowski          79      78      80           91   28\n",
       "De Gea                  57      60      43           90   26\n",
       "E. Hazard               93      93      91           90   26\n",
       "T. Kroos                60      71      69           90   27\n",
       "G. Higuaín              78      75      69           90   29"
      ]
     },
     "execution_count": 93,
     "metadata": {},
     "output_type": "execute_result"
    }
   ],
   "source": [
    "top10_df"
   ]
  },
  {
   "cell_type": "markdown",
   "id": "6fc0bfc1",
   "metadata": {},
   "source": [
    "Scatter Plots:\n",
    "\n",
    "Display individual data points."
   ]
  },
  {
   "cell_type": "code",
   "execution_count": 18,
   "id": "d740be4f",
   "metadata": {},
   "outputs": [
    {
     "data": {
      "image/png": "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",
      "text/plain": [
       "<Figure size 1400x600 with 1 Axes>"
      ]
     },
     "metadata": {},
     "output_type": "display_data"
    }
   ],
   "source": [
    "# Extracting columns\n",
    "acceleration = top10_df['Acceleration']\n",
    "balance = top10_df['Balance']\n",
    "\n",
    "# Example: Scatter plot of Balance vs Acceleration in the top five fifa players\n",
    "plt.figure(figsize=(14, 6))\n",
    "plt.scatter(acceleration, balance, label = 'Players')\n",
    "plt.xlabel('Acceleration')\n",
    "plt.ylabel('Balance')\n",
    "plt.title('Acceleration vs Balance for the top five players by FIFA')\n",
    "#for i, player_name in enumerate(player_names):\n",
    "#    plt.text(acceleration[i], balance[i], player_name, fontsize=8, ha='right', va='bottom')\n",
    "for player_name, acc, bal in zip(top10_df.index, acceleration, balance):\n",
    "    plt.text(acc, bal, player_name, fontsize=8, ha='right', va='bottom')\n",
    "\n",
    "plt.gca().set_aspect('equal', adjustable='box')\n",
    "\n",
    "\n",
    "\n",
    "\n",
    "plt.legend()\n",
    "plt.show()\n"
   ]
  },
  {
   "cell_type": "code",
   "execution_count": null,
   "id": "3033ae1f",
   "metadata": {},
   "outputs": [],
   "source": []
  },
  {
   "cell_type": "code",
   "execution_count": null,
   "id": "56b47cd6",
   "metadata": {},
   "outputs": [],
   "source": []
  },
  {
   "cell_type": "code",
   "execution_count": null,
   "id": "acf6a3ac",
   "metadata": {},
   "outputs": [],
   "source": []
  },
  {
   "cell_type": "code",
   "execution_count": null,
   "id": "14c07fa2",
   "metadata": {},
   "outputs": [],
   "source": []
  },
  {
   "cell_type": "code",
   "execution_count": null,
   "id": "8b22722b",
   "metadata": {},
   "outputs": [],
   "source": []
  },
  {
   "cell_type": "code",
   "execution_count": null,
   "id": "4ecb0d95",
   "metadata": {},
   "outputs": [],
   "source": []
  },
  {
   "cell_type": "markdown",
   "id": "09e29738",
   "metadata": {},
   "source": [
    "Line Plots:\n",
    "\n",
    "Visualize trends over a continuous variable.\n",
    "\n",
    "Subplots:\n",
    "Create multiple plots in a single figure."
   ]
  },
  {
   "cell_type": "code",
   "execution_count": 96,
   "id": "e1b30f86",
   "metadata": {},
   "outputs": [],
   "source": []
  },
  {
   "cell_type": "code",
   "execution_count": 13,
   "id": "6cd24c26",
   "metadata": {},
   "outputs": [
    {
     "data": {
      "image/png": "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",
      "text/plain": [
       "<Figure size 640x480 with 1 Axes>"
      ]
     },
     "execution_count": 13,
     "metadata": {},
     "output_type": "display_data"
    }
   ],
   "source": [
    "x = np.array([1,4, 5])\n",
    "y = np.array([6,10, 9])\n",
    "\n",
    "plt.plot(x, y)\n",
    "plt.show()\n"
   ]
  },
  {
   "cell_type": "code",
   "execution_count": null,
   "id": "3cd03844",
   "metadata": {},
   "outputs": [],
   "source": []
  },
  {
   "cell_type": "code",
   "execution_count": null,
   "id": "06f26dd8",
   "metadata": {},
   "outputs": [],
   "source": []
  },
  {
   "cell_type": "code",
   "execution_count": null,
   "id": "6cd24c26",
   "metadata": {},
   "outputs": [],
   "source": []
  },
  {
   "cell_type": "markdown",
   "id": "c0f0e841",
   "metadata": {},
   "source": []
  },
  {
   "cell_type": "code",
   "execution_count": null,
   "id": "ca154041",
   "metadata": {},
   "outputs": [],
   "source": []
  },
  {
   "cell_type": "markdown",
   "id": "c859eee7",
   "metadata": {},
   "source": [
    "Bar Charts:\n",
    "\n",
    "Represent categorical data with rectangular bars."
   ]
  },
  {
   "cell_type": "markdown",
   "id": "0ab67019",
   "metadata": {},
   "source": []
  },
  {
   "cell_type": "code",
   "execution_count": 19,
   "id": "b786858f",
   "metadata": {},
   "outputs": [
    {
     "data": {
      "text/html": [
       "<div>\n",
       "<style scoped>\n",
       "    .dataframe tbody tr th:only-of-type {\n",
       "        vertical-align: middle;\n",
       "    }\n",
       "\n",
       "    .dataframe tbody tr th {\n",
       "        vertical-align: top;\n",
       "    }\n",
       "\n",
       "    .dataframe thead th {\n",
       "        text-align: right;\n",
       "    }\n",
       "</style>\n",
       "<table border=\"1\" class=\"dataframe\">\n",
       "  <thead>\n",
       "    <tr style=\"text-align: right;\">\n",
       "      <th></th>\n",
       "      <th>Name</th>\n",
       "      <th>Acceleration</th>\n",
       "      <th>Aggression</th>\n",
       "      <th>Agility</th>\n",
       "      <th>Balance</th>\n",
       "      <th>Overall</th>\n",
       "    </tr>\n",
       "  </thead>\n",
       "  <tbody>\n",
       "    <tr>\n",
       "      <th>0</th>\n",
       "      <td>Cristiano Ronaldo</td>\n",
       "      <td>89</td>\n",
       "      <td>63</td>\n",
       "      <td>89</td>\n",
       "      <td>63</td>\n",
       "      <td>94</td>\n",
       "    </tr>\n",
       "    <tr>\n",
       "      <th>1</th>\n",
       "      <td>L. Messi</td>\n",
       "      <td>92</td>\n",
       "      <td>48</td>\n",
       "      <td>90</td>\n",
       "      <td>95</td>\n",
       "      <td>93</td>\n",
       "    </tr>\n",
       "    <tr>\n",
       "      <th>2</th>\n",
       "      <td>Neymar</td>\n",
       "      <td>94</td>\n",
       "      <td>56</td>\n",
       "      <td>96</td>\n",
       "      <td>82</td>\n",
       "      <td>92</td>\n",
       "    </tr>\n",
       "    <tr>\n",
       "      <th>3</th>\n",
       "      <td>L. Suárez</td>\n",
       "      <td>88</td>\n",
       "      <td>78</td>\n",
       "      <td>86</td>\n",
       "      <td>60</td>\n",
       "      <td>92</td>\n",
       "    </tr>\n",
       "    <tr>\n",
       "      <th>4</th>\n",
       "      <td>M. Neuer</td>\n",
       "      <td>58</td>\n",
       "      <td>29</td>\n",
       "      <td>52</td>\n",
       "      <td>35</td>\n",
       "      <td>92</td>\n",
       "    </tr>\n",
       "  </tbody>\n",
       "</table>\n",
       "</div>"
      ],
      "text/plain": [
       "                Name Acceleration Aggression Agility Balance  Overall\n",
       "0  Cristiano Ronaldo       89         63      89      63           94\n",
       "1           L. Messi       92         48      90      95           93\n",
       "2             Neymar       94         56      96      82           92\n",
       "3          L. Suárez       88         78      86      60           92\n",
       "4           M. Neuer       58         29      52      35           92"
      ]
     },
     "execution_count": 19,
     "metadata": {},
     "output_type": "execute_result"
    }
   ],
   "source": [
    "# viewing the df\n",
    "top5_df"
   ]
  },
  {
   "cell_type": "code",
   "execution_count": 20,
   "id": "e026aff4",
   "metadata": {},
   "outputs": [],
   "source": [
    "# Some columns had dataype = object. Changed the datatype to int to enable plotting. \n",
    "top5_df['Acceleration'] = top5_df['Acceleration'].astype(str).astype(int)\n",
    "top5_df['Aggression'] = top5_df['Aggression'].astype(str).astype(int)\n",
    "top5_df['Agility'] = top5_df['Agility'].astype(str).astype(int)\n",
    "top5_df['Balance'] = top5_df['Balance'].astype(str).astype(int)"
   ]
  },
  {
   "cell_type": "code",
   "execution_count": 23,
   "id": "6d019372",
   "metadata": {},
   "outputs": [
    {
     "name": "stdout",
     "output_type": "stream",
     "text": [
      "Name            object\n",
      "Acceleration     int32\n",
      "Aggression       int32\n",
      "Agility          int32\n",
      "Balance          int32\n",
      "Overall          int64\n",
      "dtype: object\n"
     ]
    }
   ],
   "source": [
    "# confirm the datatype has changed\n",
    "print(top5_df.dtypes)"
   ]
  },
  {
   "cell_type": "code",
   "execution_count": 24,
   "id": "8721a002",
   "metadata": {},
   "outputs": [
    {
     "data": {
      "text/plain": [
       "<Axes: title={'center': \"Comparing the Players' skills\"}, xlabel='Name', ylabel='Skills'>"
      ]
     },
     "execution_count": 24,
     "metadata": {},
     "output_type": "execute_result"
    },
    {
     "data": {
      "image/png": "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",
      "text/plain": [
       "<Figure size 1000x500 with 1 Axes>"
      ]
     },
     "metadata": {},
     "output_type": "display_data"
    }
   ],
   "source": [
    "# plotting a barchart to compare the players' skills\n",
    "top5_df.plot(x=\"Name\", y=[\"Acceleration\", \"Aggression\", \"Agility\", \"Balance\"],\n",
    "        kind=\"bar\", ylabel='Skills', title=\"Comparing the Players' skills\", figsize=(10, 5))\n"
   ]
  },
  {
   "cell_type": "code",
   "execution_count": null,
   "id": "e36942e5",
   "metadata": {},
   "outputs": [],
   "source": []
  },
  {
   "cell_type": "code",
   "execution_count": null,
   "id": "5b1812f5",
   "metadata": {},
   "outputs": [],
   "source": []
  },
  {
   "cell_type": "code",
   "execution_count": null,
   "id": "b97096cf",
   "metadata": {},
   "outputs": [],
   "source": []
  },
  {
   "cell_type": "code",
   "execution_count": null,
   "id": "ccd0f87d",
   "metadata": {},
   "outputs": [],
   "source": []
  },
  {
   "cell_type": "markdown",
   "id": "91ab887a",
   "metadata": {},
   "source": [
    "Histograms"
   ]
  },
  {
   "cell_type": "code",
   "execution_count": 95,
   "id": "a584676c",
   "metadata": {},
   "outputs": [
    {
     "data": {
      "image/png": "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",
      "text/plain": [
       "<Figure size 1000x600 with 1 Axes>"
      ]
     },
     "metadata": {},
     "output_type": "display_data"
    }
   ],
   "source": [
    "#Histogram of Player Ages\n",
    "plt.figure(figsize=(10, 6))\n",
    "plt.hist(top10_df['Age'], bins=20, color='skyblue', edgecolor='black')\n",
    "plt.title('Distribution of Player Ages in FIFA')\n",
    "plt.xlabel('Age')\n",
    "plt.ylabel('Number of Players')\n",
    "plt.show()"
   ]
  },
  {
   "cell_type": "code",
   "execution_count": null,
   "id": "53206abc",
   "metadata": {},
   "outputs": [],
   "source": []
  },
  {
   "cell_type": "code",
   "execution_count": 14,
   "id": "d9bed3bf",
   "metadata": {},
   "outputs": [
    {
     "ename": "SyntaxError",
     "evalue": "invalid syntax (2339067787.py, line 1)",
     "output_type": "error",
     "traceback": [
      "\u001b[1;36m  Cell \u001b[1;32mIn[14], line 1\u001b[1;36m\u001b[0m\n\u001b[1;33m    Box Plots:\u001b[0m\n\u001b[1;37m        ^\u001b[0m\n\u001b[1;31mSyntaxError\u001b[0m\u001b[1;31m:\u001b[0m invalid syntax\n"
     ]
    }
   ],
   "source": [
    "Box Plots:\n",
    "\n",
    "Show the distribution of a dataset and identify outliers."
   ]
  },
  {
   "cell_type": "code",
   "execution_count": null,
   "id": "46b75066",
   "metadata": {},
   "outputs": [],
   "source": []
  },
  {
   "cell_type": "code",
   "execution_count": null,
   "id": "1c777d00",
   "metadata": {},
   "outputs": [],
   "source": []
  },
  {
   "cell_type": "code",
   "execution_count": null,
   "id": "679e66d4",
   "metadata": {},
   "outputs": [],
   "source": [
    "Pie Charts:\n",
    "\n",
    "Represent proportions of a whole."
   ]
  },
  {
   "cell_type": "code",
   "execution_count": null,
   "id": "e6f07a59",
   "metadata": {},
   "outputs": [],
   "source": []
  },
  {
   "cell_type": "code",
   "execution_count": null,
   "id": "115219a1",
   "metadata": {},
   "outputs": [],
   "source": []
  },
  {
   "cell_type": "code",
   "execution_count": null,
   "id": "c60319a9",
   "metadata": {},
   "outputs": [],
   "source": [
    "Heatmaps:\n",
    "\n",
    "Visualize 2D data using color intensity."
   ]
  },
  {
   "cell_type": "code",
   "execution_count": null,
   "id": "43e12a2e",
   "metadata": {},
   "outputs": [],
   "source": []
  },
  {
   "cell_type": "code",
   "execution_count": null,
   "id": "3dee82e0",
   "metadata": {},
   "outputs": [],
   "source": []
  },
  {
   "cell_type": "code",
   "execution_count": null,
   "id": "1043d462",
   "metadata": {},
   "outputs": [],
   "source": [
    "3D Plots:\n",
    "\n",
    "Create 3D visualizations."
   ]
  },
  {
   "cell_type": "code",
   "execution_count": null,
   "id": "b80a4a65",
   "metadata": {},
   "outputs": [],
   "source": []
  },
  {
   "cell_type": "code",
   "execution_count": null,
   "id": "0c4d8648",
   "metadata": {},
   "outputs": [],
   "source": []
  },
  {
   "cell_type": "code",
   "execution_count": null,
   "id": "f2c9b55d",
   "metadata": {},
   "outputs": [],
   "source": [
    "Annotations and Text:\n",
    "\n",
    "Add text labels, annotations, and arrows to enhance visualizations."
   ]
  },
  {
   "cell_type": "code",
   "execution_count": null,
   "id": "1f1d7457",
   "metadata": {},
   "outputs": [],
   "source": []
  },
  {
   "cell_type": "code",
   "execution_count": null,
   "id": "977292a7",
   "metadata": {},
   "outputs": [],
   "source": []
  },
  {
   "cell_type": "code",
   "execution_count": null,
   "id": "ad4beaae",
   "metadata": {},
   "outputs": [],
   "source": []
  },
  {
   "cell_type": "code",
   "execution_count": null,
   "id": "074e1297",
   "metadata": {},
   "outputs": [],
   "source": []
  },
  {
   "cell_type": "code",
   "execution_count": null,
   "id": "2454f68a",
   "metadata": {},
   "outputs": [],
   "source": []
  },
  {
   "cell_type": "code",
   "execution_count": null,
   "id": "e962dea7",
   "metadata": {},
   "outputs": [],
   "source": []
  }
 ],
 "metadata": {
  "kernelspec": {
   "display_name": "Python 3 (ipykernel)",
   "language": "python",
   "name": "python3"
  },
  "language_info": {
   "codemirror_mode": {
    "name": "ipython",
    "version": 3
   },
   "file_extension": ".py",
   "mimetype": "text/x-python",
   "name": "python",
   "nbconvert_exporter": "python",
   "pygments_lexer": "ipython3",
   "version": "3.10.9"
  }
 },
 "nbformat": 4,
 "nbformat_minor": 5
}
